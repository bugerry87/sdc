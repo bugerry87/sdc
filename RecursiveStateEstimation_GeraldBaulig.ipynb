{
 "cells": [
  {
   "cell_type": "markdown",
   "metadata": {},
   "source": [
    "# Recursive State Estimation - Exersices\n",
    "Gerald Baulig 0780827\n",
    "\n",
    "## Exercise 2\n",
    "\n",
    "Suppose we live at a place where days are either sunny, cloudy, or rainy. The weather transition function is a Markov chain with the following transition table:\n",
    "\n",
    "|       |        |       |          |       |\n",
    "|-------|--------|-------|----------|-------|\n",
    "|       |        |       | tomorrow |       |\n",
    "|       |        | sunny |  cloudy  | rainy |\n",
    "|       |  sunny |  0.8  |    0.2   |  0.0  |\n",
    "| today | cloudy |  0.4  |    0.4   |  0.2  |\n",
    "|       |  rainy |  0.2  |    0.6   |  0.2  |\n",
    "\n",
    "### Exercise 2.a)\n",
    "Suppose Day 1 is a sunny day. What is the probability of the following sequence of days: Day2 = $cloudy$, Day3 = $cloudy$, Day4 = $rainy$?\n",
    "\n",
    "---\n",
    "\n",
    "Each day in a sequence creates a subset of its propbability of occurrence:\n",
    "\n",
    "Sequence $x = [sunny, cloudy, cloudy, rainy]$ \\\n",
    "define: $(sunny=1, cloudy=2, rainy=3)$\n",
    "\n",
    "$$\n",
    "P(X_1=1 \\cap X_2=2 \\cap X_3=2 \\cap X_4=3) \\\\\n",
    "= P(X_1=1) \\times P(X_2=2|X_1=1) \\times P(X_3=2|X_2=2) \\times P(X_4=3|X_3=2)\n",
    "$$\n",
    "\n",
    "Day 1 is sunny as a fact: $P(X_1=1) = 1.0$ \\\n",
    "Transition day 1,2: $P(X_2=2|X_1=1) = 0.2$ \\\n",
    "Transition day 2,3: $P(X_3=2|X_2=2) = 0.4$ \\\n",
    "Transition day 3,4: $P(X_4=3|X_3=2) = 0.2$\n",
    "\n",
    "Hence:\n",
    "\n",
    "$$\n",
    "1.0 \\times 0.2 \\times 0.4 \\times 0.2 = 0.016\n",
    "$$\n",
    "\n",
    "The probability that sequence $x$ occures is $0.016$"
   ]
  },
  {
   "cell_type": "markdown",
   "metadata": {},
   "source": [
    "### Exercise 2.b)\n",
    "\n",
    "Write a simulator that can randomly generate sequences of “weathers” from this state transition function.\n",
    "\n",
    "---"
   ]
  },
  {
   "cell_type": "code",
   "execution_count": 20,
   "metadata": {},
   "outputs": [
    {
     "name": "stdout",
     "output_type": "stream",
     "text": [
      "Decition borders:\n",
      "|    tomorrow   |   sunny |   cloudy |   rainy |\n",
      "| today         |         |          |         |\n",
      "|---------------+---------+----------+---------|\n",
      "| sunny         |     0.8 |      1   |       1 |\n",
      "| cloudy        |     0.4 |      0.8 |       1 |\n",
      "| rainy         |     0.2 |      0.8 |       1 |\n",
      "\n",
      "Events:\n",
      " [0.22199317 0.87073231 0.20671916 0.91861091 0.48841119 0.61174386\n",
      " 0.76590786 0.51841799 0.2968005  0.18772123]\n",
      "\n",
      "Generated sequence:\n",
      " ['sunny', 'cloudy', 'sunny', 'cloudy', 'cloudy', 'cloudy', 'cloudy', 'cloudy', 'sunny', 'sunny']\n",
      "Probability: 0.00010485760000000006\n"
     ]
    }
   ],
   "source": [
    "import matplotlib.pyplot as plt\n",
    "from tabulate import tabulate\n",
    "import numpy as np\n",
    "\n",
    "np.random.seed(5)\n",
    "weather = ('sunny', 'cloudy', 'rainy')\n",
    "lookup = {k:v for v, k in enumerate(weather)}\n",
    "transition = np.array((.8, .2, 0, .4, .4, .2, .2, .6, .2)).reshape(3,3)\n",
    "\n",
    "#transform props to decision-borders\n",
    "D = transition.copy()\n",
    "for i in range(1,D.shape[0]):\n",
    "    D[:,i] += D[:,i-1]\n",
    "\n",
    "data = zip(('sunny', 'cloudy', 'rainy'), *D.T)\n",
    "print(\"Decition borders:\")\n",
    "print(tabulate(data, ('   tomorrow\\ntoday', 'sunny', 'cloudy', 'rainy'), tablefmt='orgtbl'))\n",
    "\n",
    "#Generator:\n",
    "def sim_weather(first_day, days_to_gen):\n",
    "    event = np.random.rand(days_to_gen)\n",
    "    today = lookup[first_day]\n",
    "    sequence = [None for i in range(days_to_gen)]\n",
    "    probability = 1.0\n",
    "\n",
    "    for i, e in enumerate(event):\n",
    "        tomorrow = np.argmax(e <= D[today]) #find first true\n",
    "        sequence[i] = weather[tomorrow]\n",
    "        probability *= transition[today,tomorrow]\n",
    "        today = tomorrow\n",
    "    return sequence, probability, event\n",
    "\n",
    "#Result\n",
    "sequence, probability, event = sim_weather('sunny', 10)\n",
    "print(\"\\nEvents:\\n\", event)\n",
    "print(\"\\nGenerated sequence:\\n\", sequence)\n",
    "print(\"Probability:\", probability)"
   ]
  },
  {
   "cell_type": "markdown",
   "metadata": {},
   "source": [
    "### Exercise 2.c)\n",
    "\n",
    "Use your simulator to determine the stationary distribution of this Markov chain. The stationary distribution measures the probability that a random day will be sunny, cloudy, or rainy."
   ]
  },
  {
   "cell_type": "code",
   "execution_count": 30,
   "metadata": {},
   "outputs": [
    {
     "name": "stdout",
     "output_type": "stream",
     "text": [
      "Stationary distribution:\n",
      "|   sunny |   cloudy |   rainy |\n",
      "|---------+----------+---------|\n",
      "|   0.645 |   0.2813 |  0.0737 |\n"
     ]
    },
    {
     "data": {
      "image/png": "[encoded data removed]",
      "text/plain": [
       "<Figure size 432x288 with 1 Axes>"
      ]
     },
     "metadata": {
      "needs_background": "light"
     },
     "output_type": "display_data"
    }
   ],
   "source": [
    "np.random.seed(4)\n",
    "sequence, probability, event = sim_weather('rainy', 10000)\n",
    "sequence = np.array(sequence)\n",
    "\n",
    "data = [((sequence == 'sunny').mean(),\n",
    "         (sequence == 'cloudy').mean(),\n",
    "         (sequence == 'rainy').mean())]\n",
    "print(\"Stationary distribution:\")\n",
    "print(tabulate(data,('sunny', 'cloudy', 'rainy'), tablefmt='orgtbl'))\n",
    "plt.hist(sequence)\n",
    "plt.show()"
   ]
  },
  {
   "cell_type": "markdown",
   "metadata": {},
   "source": [
    "### Exercise 2.d)\n",
    "Can you devise a closed-form solution to calculating the stationary distribution based on the state transition matrix above?\n",
    "\n",
    "---\n",
    "\n",
    "**Definition:** \"The stationery distribution of a Markov Chain with transition matrix $P$ is some vector, $\\psi$, such that $\\psi P = \\psi$.\" (1)\n",
    "\n",
    "Hense:\n",
    "\n",
    "$$\n",
    "\\begin{bmatrix}\n",
    "\\psi_1 & \\psi_2 & \\psi_3 \\\\\n",
    "\\end{bmatrix}\n",
    "\\times\n",
    "\\begin{bmatrix}\n",
    "0.8 & 0.2 & 0.0 \\\\\n",
    "0.4 & 0.4 & 0.2 \\\\\n",
    "0.2 & 0.6 & 0.2\n",
    "\\end{bmatrix}\n",
    "=\n",
    "\\begin{bmatrix}\n",
    "\\psi_1 & \\psi_2 & \\psi_3 \\\\\n",
    "\\end{bmatrix}\n",
    "$$\n",
    "\n",
    "$$\n",
    ".8\\psi_1 - \\psi_1 + .4\\psi_2 + .2\\psi_3 = 0 \\\\\n",
    ".2\\psi_1 + .4\\psi_2 - \\psi_2 + .6\\psi_3 = 0 \\\\\n",
    "\\psi_1 + \\psi_2 + \\psi_3 = 1\n",
    "$$\n",
    "\n",
    "Powered by: https://www.mathportal.org/calculators/system-of-equations-solver/system-3x3.php\n",
    "\n",
    "$$ \\begin{array}{ cccc }\\color{red}{ -\\frac{ 1 }{ 5 } }~ x&\\color{blue}{ +~~\\frac{ 2 }{ 5 } }~ y&\\color{green}{ +~~\\frac{ 1 }{ 5 } }~ z&~=~0\\\\\\color{red}{ \\frac{ 1 }{ 5 } }~ x&\\color{blue}{ -~~~\\frac{ 3 }{ 5 } }~ y&\\color{green}{ +~~\\frac{ 3 }{ 5 } }~ z&~=~0\\\\\\color{red}{ ~ }~ x&\\color{blue}{ +~~~ }~ y&\\color{green}{ +~~~ }~ z&~=~1\\end{array} $$<p class=\"uvucen\" style=\"padding:0;\"><b>The solutions are:</b></p>$$ x = \\frac{ 9 }{ 14 } ~,~y = \\frac{ 2 }{ 7 } ~,~z = \\frac{ 1 }{ 14 } $$<p><b>Explanation:</b></p><p class=\"uvucen\"><b>Step 1:</b> Find the determinant of the <b>coefficient matrix</b>.</p>$$ D= \\left| \\begin{array}{ ccc }\\color{red}{ -\\frac{ 1 }{ 5 } }&\\color{blue}{ ~~\\frac{ 2 }{ 5 } }&\\color{green}{ ~~\\frac{ 1 }{ 5 } }\\\\\\color{red}{ \\frac{ 1 }{ 5 } }&\\color{blue}{ -\\frac{ 3 }{ 5 } }&\\color{green}{ ~~\\frac{ 3 }{ 5 } }\\\\\\color{red}{ 1 }&\\color{blue}{ ~~1 }&\\color{green}{ ~~1 }\\end{array} \\right| = \\frac{ 14 }{ 25 } $$<p class=\"uvucen\"><b>Step 2:</b> Find the determinant of the <b>x - matrix ( D<sub>x</sub> )</b>. X - matrix is formed by replacing the x-column values with the answer-column values.</p>$$ D_x= \\left| \\begin{array}{ ccc }\\color{black}{ 0 }&\\color{blue}{ ~~\\frac{ 2 }{ 5 } }&\\color{green}{ ~~\\frac{ 1 }{ 5 } }\\\\\\color{black}{ 0 }&\\color{blue}{ -\\frac{ 3 }{ 5 } }&\\color{green}{ ~~\\frac{ 3 }{ 5 } }\\\\\\color{black}{ 1 }&\\color{blue}{ ~~1 }&\\color{green}{ ~~1 }\\end{array} \\right| = \\frac{ 9 }{ 25 } $$<p class=\"uvucen\"><b>Step 3:</b> Find the determinant of the <b>y - matrix</b>. </p>$$ D_y= \\left| \\begin{array}{ ccc }\\color{red}{ -\\frac{ 1 }{ 5 } }&\\color{black}{ ~~0 }&\\color{green}{ ~~\\frac{ 1 }{ 5 } }\\\\\\color{red}{ \\frac{ 1 }{ 5 } }&\\color{black}{ ~~0 }&\\color{green}{ ~~\\frac{ 3 }{ 5 } }\\\\\\color{red}{ 1 }&\\color{black}{ ~~1 }&\\color{green}{ ~~1 }\\end{array} \\right| = \\frac{ 4 }{ 25 } $$<p class=\"uvucen\"><b>Step 4:</b> Find the determinant of the <b>z - matrix</b>. </p>$$ D_z= \\left| \\begin{array}{ ccc }\\color{red}{ -\\frac{ 1 }{ 5 } }&\\color{blue}{ ~~\\frac{ 2 }{ 5 } }&\\color{black}{ ~~0 }\\\\\\color{red}{ \\frac{ 1 }{ 5 } }&\\color{blue}{ -\\frac{ 3 }{ 5 } }&\\color{black}{ ~~0 }\\\\\\color{red}{ 1 }&\\color{blue}{ ~~1 }&\\color{black}{ ~~1 }\\end{array} \\right| = \\frac{ 1 }{ 25 } $$<p class=\"uvucen\" style=\"padding:0;\"><b>Cramers Rule says that the solutions are </b></p>$$ x = \\frac{D_x}{D} ~,~y = \\frac{D_y}{D}~,~z = \\frac{D_z}{D} $$<p class=\"uvucen\" style=\"padding:0;\"><b>So, in this example we have:</b></p>$$ \\begin{aligned}  x &= \\frac{D_x}{D} = \\frac{ \\frac{ 9 }{ 25 } }{ \\frac{ 14 }{ 25 } } = \\frac{ 9 }{ 14 } \\\\ y &= \\frac{D_y}{D} = \\frac{ \\frac{ 4 }{ 25 } }{ \\frac{ 14 }{ 25 } } = \\frac{ 2 }{ 7 } \\\\z &= \\frac{D_z}{D} = \\frac{ \\frac{ 1 }{ 25 } }{ \\frac{ 14 }{ 25 } } = \\frac{ 1 }{ 14 } \\end{aligned} $$\n",
    "\n",
    "**References:**\n",
    "1. https://www.stat.berkeley.edu/~mgoldman/Section0220.pdf\n",
    "2. https://stackoverflow.com/questions/31791728/python-code-explanation-for-stationary-distribution-of-a-markov-chain\n",
    "\n",
    "#### Via Numpy Solve"
   ]
  },
  {
   "cell_type": "code",
   "execution_count": 27,
   "metadata": {},
   "outputs": [
    {
     "name": "stdout",
     "output_type": "stream",
     "text": [
      "EQ:\n",
      " [[-0.2  0.4  0.2]\n",
      " [ 0.2 -0.6  0.6]\n",
      " [ 1.   1.   1. ]]\n",
      "\n",
      "Stationary distribution:\n",
      "|    sunny |   cloudy |     rainy |\n",
      "|----------+----------+-----------|\n",
      "| 0.642857 | 0.285714 | 0.0714286 |\n"
     ]
    }
   ],
   "source": [
    "EQ = transition.copy().T\n",
    "EQ[(0,1),(0,1)] -= 1\n",
    "EQ[-1,:] = 1\n",
    "p = np.linalg.solve(EQ, [0,0,1])\n",
    "\n",
    "print(\"EQ:\\n\", EQ)\n",
    "print(\"\\nStationary distribution:\")\n",
    "print(tabulate(p[None,:],('sunny', 'cloudy', 'rainy'), tablefmt='orgtbl'))"
   ]
  },
  {
   "cell_type": "markdown",
   "metadata": {},
   "source": [
    "#### Via Eigenvector"
   ]
  },
  {
   "cell_type": "code",
   "execution_count": 29,
   "metadata": {},
   "outputs": [
    {
     "name": "stdout",
     "output_type": "stream",
     "text": [
      "Stationary distribution:\n",
      "|    sunny |   cloudy |     rainy |\n",
      "|----------+----------+-----------|\n",
      "| 0.642857 | 0.285714 | 0.0714286 |\n"
     ]
    },
    {
     "data": {
      "image/png": "[encoded data removed]",
      "text/plain": [
       "<Figure size 432x288 with 1 Axes>"
      ]
     },
     "metadata": {
      "needs_background": "light"
     },
     "output_type": "display_data"
    }
   ],
   "source": [
    "evals, evecs = np.linalg.eig(transition.T)\n",
    "evec1 = evecs[:,np.isclose(evals, 1)]\n",
    "evec1 = evec1[:,0]\n",
    "p = evec1 / evec1.sum()\n",
    "p = p.real\n",
    "headers = ('sunny', 'cloudy', 'rainy')\n",
    "\n",
    "print(\"Stationary distribution:\")\n",
    "print(tabulate(p[None,:], headers, tablefmt='orgtbl'))\n",
    "plt.bar(headers, p)\n",
    "plt.show()"
   ]
  },
  {
   "cell_type": "markdown",
   "metadata": {},
   "source": [
    "### Exercise 2.e)\n",
    "\n",
    "What is the entropy of the stationary distribution?\n",
    "\n",
    "---\n",
    "\n",
    "**Definition:** \"The entropy is the expected information that the value of $x$ carries.\" (2)\n",
    "\n",
    "$$\n",
    "H(P,p) = -\\sum_{i,j} p_i P_{i,j} \\log_2 P_{i,j}\n",
    "$$\n",
    "\n",
    "**References:**\n",
    "1. https://math.stackexchange.com/questions/1040972/entropy-of-a-markov-chain-right-result\n",
    "2. Probabilistic Robotics"
   ]
  },
  {
   "cell_type": "code",
   "execution_count": 6,
   "metadata": {},
   "outputs": [
    {
     "name": "stdout",
     "output_type": "stream",
     "text": [
      "Bits required for x:\n",
      " [0.32192809 1.32192809 2.32192809] ?\n",
      "The entropy is:\n",
      " 0.34981091814187576\n"
     ]
    }
   ],
   "source": [
    "P = transition\n",
    "i = np.arange(P.shape[0])\n",
    "j = np.arange(P.shape[1])\n",
    "bits = -np.log2(P[i,j])\n",
    "entropy = np.sum(p[i] * P[i,j] * bits)\n",
    "print(\"Bits required for x:\\n\", bits, '?')\n",
    "print(\"The entropy is:\\n\", entropy)"
   ]
  },
  {
   "cell_type": "markdown",
   "metadata": {},
   "source": [
    "### Exercise 2.e)\n",
    "\n",
    "Using Bayes rule, compute the probability table of yesterday’s weather\n",
    "given today’s weather. (It is okay to provide the probabilities numerically,\n",
    "and it is also okay to rely on results from previous questions in\n",
    "this exercise.)\n",
    "\n",
    "---\n",
    "\n",
    "**Bayes rule (2.16):**\n",
    "\n",
    "$$\n",
    "P(X_{t-1}=i|X_t=j) = \\eta P(X_t=j | X_{t-1}=i) \\times P(X_{t-1}=i) \\\\\n",
    "= \\frac{P(X_t=j | X_{t-1}=i) \\times P(X_{t-1}=i)}{P(X_t=j)} \\\\\n",
    "= \\frac{P^T \\times \\psi_i}{\\psi_j} = P_{t-1}\n",
    "$$"
   ]
  },
  {
   "cell_type": "code",
   "execution_count": 34,
   "metadata": {},
   "outputs": [
    {
     "name": "stdout",
     "output_type": "stream",
     "text": [
      "Transition matrix to yesterday\n",
      "|    yesterday   |   sunny |   cloudy |     rainy |\n",
      "| today          |         |          |           |\n",
      "|----------------+---------+----------+-----------|\n",
      "| sunny          |    0.8  | 0.177778 | 0.0222222 |\n",
      "| cloudy         |    0.45 | 0.4      | 0.15      |\n",
      "| rainy          |    0    | 0.8      | 0.2       |\n"
     ]
    }
   ],
   "source": [
    "Py = (P.T * p).T / p\n",
    "print(\"Transition matrix to yesterday\")\n",
    "headers = ('   yesterday\\ntoday', 'sunny', 'cloudy', 'rainy')\n",
    "data = zip(('sunny', 'cloudy', 'rainy'), *Py)\n",
    "table = tabulate(data, headers, tablefmt='orgtbl')\n",
    "print(table)"
   ]
  },
  {
   "cell_type": "markdown",
   "metadata": {},
   "source": [
    "### Exercise 2.g)\n",
    "\n",
    "Suppose we added seasons to our model. The state transition function\n",
    "above would only apply to the Summer, whereas different ones would\n",
    "apply toWinter, Spring, and Fall. Would this violate the Markov property\n",
    "of this process? Explain your answer.\n",
    "\n",
    "---\n",
    "\n",
    "The markov property states the probability law of future state conditioned on the current\n",
    "state does not depend on any other variables: The current state should be sufficient to compute\n",
    "the future stochastic evolution. This implies the state transition function can not depend on the\n",
    "season. Therefore, in order to restore the Markov property, we could incorporate the season into\n",
    "the state variable."
   ]
  },
  {
   "cell_type": "markdown",
   "metadata": {},
   "source": [
    "## Exercise 3\n",
    "\n",
    "Suppose that we cannot observe the weather directly, but instead rely on\n",
    "a sensor. The problem is that our sensor is noisy. Its measurements are\n",
    "governed by the following measurement model:"
   ]
  },
  {
   "cell_type": "code",
   "execution_count": null,
   "metadata": {},
   "outputs": [],
   "source": []
  }
 ],
 "metadata": {
  "kernelspec": {
   "display_name": "Python 3",
   "language": "python",
   "name": "python3"
  },
  "language_info": {
   "codemirror_mode": {
    "name": "ipython",
    "version": 3
   },
   "file_extension": ".py",
   "mimetype": "text/x-python",
   "name": "python",
   "nbconvert_exporter": "python",
   "pygments_lexer": "ipython3",
   "version": "3.7.4"
  }
 },
 "nbformat": 4,
 "nbformat_minor": 2
}
