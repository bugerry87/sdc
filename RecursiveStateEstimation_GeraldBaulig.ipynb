{
 "cells": [
  {
   "cell_type": "markdown",
   "metadata": {},
   "source": [
    "# Recursive State Estimation - Exersices\n",
    "Gerald Baulig 0780827\n",
    "\n",
    "## Exercise 2\n",
    "\n",
    "Suppose we live at a place where days are either sunny, cloudy, or rainy. The weather transition function is a Markov chain with the following transition table:\n",
    "\n",
    "|       |        |       |          |       |\n",
    "|-------|--------|-------|----------|-------|\n",
    "|       |        |       | tomorrow |       |\n",
    "|       |        | sunny |  cloudy  | rainy |\n",
    "|       |  sunny |  0.8  |    0.2   |  0.0  |\n",
    "| today | cloudy |  0.4  |    0.4   |  0.2  |\n",
    "|       |  rainy |  0.2  |    0.6   |  0.2  |\n",
    "\n",
    "### Exercise 2.a)\n",
    "- Suppose Day 1 is a sunny day. What is the probability of the following sequence of days: Day2 = $cloudy$, Day3 = $cloudy$, Day4 = $rainy$?\n",
    "\n",
    "Each day in a sequence creates a subset of its propbability of occurrence:\n",
    "\n",
    "Sequence $x = [sunny, cloudy, cloudy, rainy]$\n",
    "\n",
    "define: $(sunny=1, cloudy=2, rainy=3)$\n",
    "\n",
    "$$\n",
    "P(X_1=1 \\cap X_2=2 \\cap X_3=2 \\cap X_4=3)\n",
    "\\\\\n",
    "= P(X_1=1) \\times P(X_2=2|X_1=1) \\times P(X_3=2|X_2=2) \\times P(X_4=3|X_3=2)\n",
    "$$\n",
    "\n",
    "Day 1 is sunny as a fact: $P(X_1=1) = 1.0$ <br>\n",
    "Transition day 1,2: $P(X_2=2|X_1=1) = 0.2$ <br>\n",
    "Transition day 2,3: $P(X_3=2|X_2=2) = 0.4$ <br>\n",
    "Transition day 3,4: $P(X_4=3|X_3=2) = 0.2$\n",
    "\n",
    "Hence:\n",
    "\n",
    "$$\n",
    "1.0 \\times 0.2 \\times 0.4 \\times 0.2 = 0.016\n",
    "$$\n",
    "\n",
    "The probability that sequence $x$ occures is $0.016$"
   ]
  },
  {
   "cell_type": "markdown",
   "metadata": {},
   "source": [
    "### Exercise 2.b)\n",
    "\n",
    "- Write a simulator that can randomly generate sequences of “weathers” from this state transition function."
   ]
  },
  {
   "cell_type": "code",
   "execution_count": 1,
   "metadata": {},
   "outputs": [
    {
     "name": "stdout",
     "output_type": "stream",
     "text": [
      "Decition borders:\n",
      "|    tomorrow   |   sunny |   cloudy |   rainy |\n",
      "| today         |         |          |         |\n",
      "|---------------+---------+----------+---------|\n",
      "| sunny         |     0.8 |      1   |       1 |\n",
      "| cloudy        |     0.4 |      0.8 |       1 |\n",
      "| rainy         |     0.2 |      0.8 |       1 |\n",
      "\n",
      "Events:\n",
      " [0.22199317 0.87073231 0.20671916 0.91861091 0.48841119 0.61174386\n",
      " 0.76590786 0.51841799 0.2968005  0.18772123]\n",
      "\n",
      "Generated sequence:\n",
      " ['sunny', 'cloudy', 'sunny', 'cloudy', 'cloudy', 'cloudy', 'cloudy', 'cloudy', 'sunny', 'sunny']\n",
      "Probability: 0.00010485760000000006\n"
     ]
    }
   ],
   "source": [
    "import matplotlib.pyplot as plt\n",
    "from tabulate import tabulate\n",
    "import numpy as np\n",
    "\n",
    "np.random.seed(5)\n",
    "weather = ('sunny', 'cloudy', 'rainy')\n",
    "lookup = {k:v for v, k in enumerate(weather)}\n",
    "transition = np.array((.8, .2, 0, .4, .4, .2, .2, .6, .2)).reshape(3,3)\n",
    "\n",
    "#transform props to decision-borders\n",
    "D = transition.copy()\n",
    "for i in range(1,D.shape[0]):\n",
    "    D[:,i] += D[:,i-1]\n",
    "\n",
    "data = zip(('sunny', 'cloudy', 'rainy'), *D.T)\n",
    "print(\"Decition borders:\")\n",
    "print(tabulate(data, ('   tomorrow\\ntoday', 'sunny', 'cloudy', 'rainy'), tablefmt='orgtbl'))\n",
    "\n",
    "#Generator:\n",
    "def sim_weather(first_day, days_to_gen):\n",
    "    event = np.random.rand(days_to_gen)\n",
    "    today = lookup[first_day]\n",
    "    sequence = [None for i in range(days_to_gen)]\n",
    "    probability = 1.0\n",
    "\n",
    "    for i, e in enumerate(event):\n",
    "        tomorrow = np.argmax(e <= D[today]) #find first true\n",
    "        sequence[i] = weather[tomorrow]\n",
    "        probability *= transition[today,tomorrow]\n",
    "        today = tomorrow\n",
    "    return sequence, probability, event\n",
    "\n",
    "#Result\n",
    "sequence, probability, event = sim_weather('sunny', 10)\n",
    "print(\"\\nEvents:\\n\", event)\n",
    "print(\"\\nGenerated sequence:\\n\", sequence)\n",
    "print(\"Probability:\", probability)"
   ]
  },
  {
   "cell_type": "markdown",
   "metadata": {},
   "source": [
    "### Exercise 2.c)\n",
    "\n",
    "- Use your simulator to determine the stationary distribution of this Markov chain. The stationary distribution measures the probability that a random day will be sunny, cloudy, or rainy."
   ]
  },
  {
   "cell_type": "code",
   "execution_count": 2,
   "metadata": {},
   "outputs": [
    {
     "name": "stdout",
     "output_type": "stream",
     "text": [
      "Stationary distribution:\n",
      "|   sunny |   cloudy |   rainy |\n",
      "|---------+----------+---------|\n",
      "|   0.645 |   0.2813 |  0.0737 |\n"
     ]
    },
    {
     "data": {
      "image/png": "[encoded data removed]",
      "text/plain": [
       "<Figure size 432x288 with 1 Axes>"
      ]
     },
     "metadata": {
      "needs_background": "light"
     },
     "output_type": "display_data"
    }
   ],
   "source": [
    "np.random.seed(4)\n",
    "sequence, probability, event = sim_weather('rainy', 10000)\n",
    "sequence = np.array(sequence)\n",
    "\n",
    "data = [((sequence == 'sunny').mean(),\n",
    "         (sequence == 'cloudy').mean(),\n",
    "         (sequence == 'rainy').mean())]\n",
    "print(\"Stationary distribution:\")\n",
    "print(tabulate(data,('sunny', 'cloudy', 'rainy'), tablefmt='orgtbl'))\n",
    "plt.hist(sequence)\n",
    "plt.show()"
   ]
  },
  {
   "cell_type": "markdown",
   "metadata": {},
   "source": [
    "### Exercise 2.d)\n",
    "\n",
    "- Can you devise a closed-form solution to calculating the stationary distribution based on the state transition matrix above?\n",
    "\n",
    "**Definition:** \"The stationery distribution of a Markov Chain with transition matrix $P$ is some vector, $\\psi$, such that $\\psi P = \\psi$.\" (1)\n",
    "\n",
    "Hense:\n",
    "\n",
    "$$\n",
    "\\begin{bmatrix}\n",
    "\\psi_1 & \\psi_2 & \\psi_3 \\\\\n",
    "\\end{bmatrix}\n",
    "\\times\n",
    "\\begin{bmatrix}\n",
    "0.8 & 0.2 & 0.0 \\\\\n",
    "0.4 & 0.4 & 0.2 \\\\\n",
    "0.2 & 0.6 & 0.2\n",
    "\\end{bmatrix}\n",
    "=\n",
    "\\begin{bmatrix}\n",
    "\\psi_1 & \\psi_2 & \\psi_3 \\\\\n",
    "\\end{bmatrix}\n",
    "$$\n",
    "\n",
    "$$\n",
    ".8\\psi_1 - \\psi_1 + .4\\psi_2 + .2\\psi_3 = 0\n",
    "\\\\\n",
    ".2\\psi_1 + .4\\psi_2 - \\psi_2 + .6\\psi_3 = 0\n",
    "\\\\\n",
    "\\psi_1 + \\psi_2 + \\psi_3 = 1\n",
    "$$\n",
    "\n",
    "\n",
    "Powered by: https://www.mathportal.org/calculators/system-of-equations-solver/system-3x3.php\n",
    "\n",
    "$$ \\begin{array}{ cccc }\n",
    "\\color{red}{ -\\frac{ 1 }{ 5 } } x&\\color{blue}{ +\\frac{ 2 }{ 5 } } y&\\color{green}{ +\\frac{ 1 }{ 5 } } z&=0\\\\\n",
    "\\color{red}{ \\frac{ 1 }{ 5 } } x&\\color{blue}{ -\\frac{ 3 }{ 5 } } y&\\color{green}{ +\\frac{ 3 }{ 5 } } z&=0\\\\\n",
    "\\color{red}{ } x&\\color{blue}{ + } y&\\color{green}{ + } z&=1\n",
    "\\end{array}\n",
    "$$\n",
    "\n",
    "#### The solutions are:\n",
    "$$ x = \\frac{ 9 }{ 14 } ,y = \\frac{ 2 }{ 7 } ,z = \\frac{ 1 }{ 14 } $$\n",
    "\n",
    "#### Explanation:\n",
    "\n",
    "**Step 1:** Find the determinant of the *coefficient matrix*:\n",
    "\n",
    "$$ \n",
    "D= \\left| \\begin{array}{ ccc }\\color{red}{ -\\frac{ 1 }{ 5 } }&\\color{blue}{ \\frac{ 2 }{ 5 } }&\\color{green}{ \\frac{ 1 }{ 5 } }\\\\\\color{red}{ \\frac{ 1 }{ 5 } }&\\color{blue}{ -\\frac{ 3 }{ 5 } }&\\color{green}{ \\frac{ 3 }{ 5 } }\\\\\\color{red}{ 1 }&\\color{blue}{ 1 }&\\color{green}{ 1 }\\end{array} \\right| = \\frac{ 14 }{ 25 }\n",
    "$$\n",
    "\n",
    "**Step 2:** Find the determinant of the *x - matrix* $(D_x)$. *X - matrix* is formed by replacing the x-column values with the answer-column values.\n",
    "\n",
    "$$ D_x= \\left| \\begin{array}{ ccc }\\color{black}{ 0 }&\\color{blue}{ \\frac{ 2 }{ 5 } }&\\color{green}{ \\frac{ 1 }{ 5 } }\\\\\\color{black}{ 0 }&\\color{blue}{ -\\frac{ 3 }{ 5 } }&\\color{green}{ \\frac{ 3 }{ 5 } }\\\\\\color{black}{ 1 }&\\color{blue}{ 1 }&\\color{green}{ 1 }\\end{array} \\right| = \\frac{ 9 }{ 25 } $$<p class=\"uvucen\"><b>Step 3:</b> Find the determinant of the <b>y - matrix</b>. </p>$$ D_y= \\left| \\begin{array}{ ccc }\\color{red}{ -\\frac{ 1 }{ 5 } }&\\color{black}{ 0 }&\\color{green}{ \\frac{ 1 }{ 5 } }\\\\\\color{red}{ \\frac{ 1 }{ 5 } }&\\color{black}{ 0 }&\\color{green}{ \\frac{ 3 }{ 5 } }\\\\\\color{red}{ 1 }&\\color{black}{ 1 }&\\color{green}{ 1 }\\end{array} \\right| = \\frac{ 4 }{ 25 } $$<p class=\"uvucen\"><b>Step 4:</b> Find the determinant of the <b>z - matrix</b>. </p>$$ D_z= \\left| \\begin{array}{ ccc }\\color{red}{ -\\frac{ 1 }{ 5 } }&\\color{blue}{ \\frac{ 2 }{ 5 } }&\\color{black}{ 0 }\\\\\\color{red}{ \\frac{ 1 }{ 5 } }&\\color{blue}{ -\\frac{ 3 }{ 5 } }&\\color{black}{ 0 }\\\\\\color{red}{ 1 }&\\color{blue}{ 1 }&\\color{black}{ 1 }\\end{array} \\right| = \\frac{ 1 }{ 25 } $$<p class=\"uvucen\" style=\"padding:0;\"><b>Cramers Rule says that the solutions are </b></p>$$ x = \\frac{D_x}{D} ,y = \\frac{D_y}{D},z = \\frac{D_z}{D} $$<p class=\"uvucen\" style=\"padding:0;\"><b>So, in this example we have:</b></p>$$ \\begin{aligned}  x &= \\frac{D_x}{D} = \\frac{ \\frac{ 9 }{ 25 } }{ \\frac{ 14 }{ 25 } } = \\frac{ 9 }{ 14 } \\\\ y &= \\frac{D_y}{D} = \\frac{ \\frac{ 4 }{ 25 } }{ \\frac{ 14 }{ 25 } } = \\frac{ 2 }{ 7 } \\\\z &= \\frac{D_z}{D} = \\frac{ \\frac{ 1 }{ 25 } }{ \\frac{ 14 }{ 25 } } = \\frac{ 1 }{ 14 } \\end{aligned} $$\n",
    "\n",
    "**References:**\n",
    "\n",
    "1. https://www.stat.berkeley.edu/~mgoldman/Section0220.pdf\n",
    "2. https://stackoverflow.com/questions/31791728/python-code-explanation-for-stationary-distribution-of-a-markov-chain\n",
    "\n",
    "#### Via Numpy Solve"
   ]
  },
  {
   "cell_type": "code",
   "execution_count": 3,
   "metadata": {},
   "outputs": [
    {
     "name": "stdout",
     "output_type": "stream",
     "text": [
      "EQ:\n",
      " [[-0.2  0.4  0.2]\n",
      " [ 0.2 -0.6  0.6]\n",
      " [ 1.   1.   1. ]]\n",
      "\n",
      "Stationary distribution:\n",
      "|    sunny |   cloudy |     rainy |\n",
      "|----------+----------+-----------|\n",
      "| 0.642857 | 0.285714 | 0.0714286 |\n"
     ]
    }
   ],
   "source": [
    "EQ = transition.copy().T\n",
    "EQ[(0,1),(0,1)] -= 1\n",
    "EQ[-1,:] = 1\n",
    "p = np.linalg.solve(EQ, [0,0,1])\n",
    "\n",
    "print(\"EQ:\\n\", EQ)\n",
    "print(\"\\nStationary distribution:\")\n",
    "print(tabulate(p[None,:],('sunny', 'cloudy', 'rainy'), tablefmt='orgtbl'))"
   ]
  },
  {
   "cell_type": "markdown",
   "metadata": {},
   "source": [
    "#### Via Eigenvector"
   ]
  },
  {
   "cell_type": "code",
   "execution_count": 4,
   "metadata": {},
   "outputs": [
    {
     "name": "stdout",
     "output_type": "stream",
     "text": [
      "Stationary distribution:\n",
      "|    sunny |   cloudy |     rainy |\n",
      "|----------+----------+-----------|\n",
      "| 0.642857 | 0.285714 | 0.0714286 |\n"
     ]
    },
    {
     "data": {
      "image/png": "[encoded data removed]",
      "text/plain": [
       "<Figure size 432x288 with 1 Axes>"
      ]
     },
     "metadata": {
      "needs_background": "light"
     },
     "output_type": "display_data"
    }
   ],
   "source": [
    "evals, evecs = np.linalg.eig(transition.T)\n",
    "evec1 = evecs[:,np.isclose(evals, 1)]\n",
    "evec1 = evec1[:,0]\n",
    "p = evec1 / evec1.sum()\n",
    "p = p.real\n",
    "headers = ('sunny', 'cloudy', 'rainy')\n",
    "\n",
    "print(\"Stationary distribution:\")\n",
    "print(tabulate(p[None,:], headers, tablefmt='orgtbl'))\n",
    "plt.bar(headers, p)\n",
    "plt.show()"
   ]
  },
  {
   "cell_type": "markdown",
   "metadata": {},
   "source": [
    "### Exercise 2.e)\n",
    "\n",
    "- What is the entropy of the stationary distribution?\n",
    "\n",
    "**Definition:** \"The entropy is the expected information that the value of $x$ carries.\" (2)\n",
    "\n",
    "$$\n",
    "H(P,p) = -\\sum_{i,j} p_i P_{i,j} \\log_2 P_{i,j}\n",
    "$$\n",
    "\n",
    "**References:**\n",
    "\n",
    "1. https://math.stackexchange.com/questions/1040972/entropy-of-a-markov-chain-right-result\n",
    "2. Probabilistic Robotics"
   ]
  },
  {
   "cell_type": "code",
   "execution_count": 5,
   "metadata": {},
   "outputs": [
    {
     "name": "stdout",
     "output_type": "stream",
     "text": [
      "Bits required for x:\n",
      " [0.32192809 1.32192809 2.32192809] ?\n",
      "The entropy is:\n",
      " 0.34981091814187576\n"
     ]
    }
   ],
   "source": [
    "P = transition\n",
    "i = np.arange(P.shape[0])\n",
    "j = np.arange(P.shape[1])\n",
    "bits = -np.log2(P[i,j])\n",
    "entropy = np.sum(p[i] * P[i,j] * bits)\n",
    "print(\"Bits required for x:\\n\", bits, '?')\n",
    "print(\"The entropy is:\\n\", entropy)"
   ]
  },
  {
   "cell_type": "markdown",
   "metadata": {},
   "source": [
    "### Exercise 2.e)\n",
    "\n",
    "- Using Bayes rule, compute the probability table of yesterday’s weather given today’s weather. (It is okay to provide the probabilities numerically, and it is also okay to rely on results from previous questions in this exercise.)\n",
    "\n",
    "**Bayes rule (2.16):**\n",
    "\n",
    "$$\n",
    "P(X_{t-1}=i|X_t=j) = \\eta P(X_t=j | X_{t-1}=i) \\times P(X_{t-1}=i)\n",
    "\\\\\n",
    "= \\frac{P(X_t=j | X_{t-1}=i) \\times P(X_{t-1}=i)}{P(X_t=j)}\n",
    "\\\\\n",
    "= \\frac{P^T \\times \\psi_i}{\\psi_j} = P_{t-1}\n",
    "$$"
   ]
  },
  {
   "cell_type": "code",
   "execution_count": 6,
   "metadata": {},
   "outputs": [
    {
     "name": "stdout",
     "output_type": "stream",
     "text": [
      "Transition matrix to yesterday\n",
      "|    yesterday   |   sunny |   cloudy |     rainy |\n",
      "| today          |         |          |           |\n",
      "|----------------+---------+----------+-----------|\n",
      "| sunny          |    0.8  | 0.177778 | 0.0222222 |\n",
      "| cloudy         |    0.45 | 0.4      | 0.15      |\n",
      "| rainy          |    0    | 0.8      | 0.2       |\n"
     ]
    }
   ],
   "source": [
    "Py = (P.T * p).T / p\n",
    "print(\"Transition matrix to yesterday\")\n",
    "headers = ('   yesterday\\ntoday', 'sunny', 'cloudy', 'rainy')\n",
    "data = zip(('sunny', 'cloudy', 'rainy'), *Py)\n",
    "table = tabulate(data, headers, tablefmt='orgtbl')\n",
    "print(table)"
   ]
  },
  {
   "cell_type": "markdown",
   "metadata": {},
   "source": [
    "### Exercise 2.g)\n",
    "\n",
    "- Suppose we added seasons to our model. The state transition function above would only apply to the Summer, whereas different ones would apply to Winter, Spring, and Fall. Would this violate the Markov property of this process? Explain your answer.\n",
    "\n",
    "\"*The Markov assumption postulates that past and future data are independent\n",
    "if one knows the current state* $x_t$\". (1)\n",
    "\n",
    "Violations: \"*Unmodeled dynamics in the environment not included in* $x_t$\" (1)\n",
    "\n",
    "**Hence:** The Markov property is not given, unless the season is included in $x_t$.\n",
    "We cannot simply switch between different transition-matrices, since this would violate the overall distribution to -> 1.\n",
    "\n",
    "To restore the Markov property, we could incorporate the season into the state variable.\n",
    "\n",
    "**References:**\n",
    "\n",
    "1. Probabilistic Robotics"
   ]
  },
  {
   "cell_type": "markdown",
   "metadata": {},
   "source": [
    "## Exercise 3\n",
    "\n",
    "Suppose that we cannot observe the weather directly, but instead rely on\n",
    "a sensor. The problem is that our sensor is noisy. Its measurements are\n",
    "governed by the following measurement model:\n",
    "\n",
    "|       |        |       |          |       |\n",
    "|-------|--------|-------|----------|-------|\n",
    "|       |        |       |  sensor  |       |\n",
    "|       |        | sunny |  cloudy  | rainy |\n",
    "|       |  sunny |  0.6  |    0.4   |  0.0  |\n",
    "| true  | cloudy |  0.3  |    0.7   |  0.0  |\n",
    "|       |  rainy |  0.0  |    0.0   |  1.0  |"
   ]
  },
  {
   "cell_type": "markdown",
   "metadata": {},
   "source": [
    "### Exercise 3.a)\n",
    "\n",
    "- Suppose Day 1 is $sunny$ (this is known for a fact), and in the subsequent four days our sensor observes $cloudy, cloudy, rainy, sunny$. What is the probability that Day 5 is indeed $sunny$ as predicted by our sensor?\n",
    "\n",
    "**Define:** $(sunny, cloudy, rainy) = (1,2,3)$\n",
    "\n",
    "Sequence $z = [1, 2, 2, 3, 1]$\n",
    "\n",
    "$X_1 = 1$\n",
    "\n",
    "$$\n",
    "P_1 = \\begin{bmatrix}\n",
    "0.8 & 0.2 & 0.0\\\\\n",
    "0.4 & 0.4 & 0.2\\\\\n",
    "0.2 & 0.6 & 0.2\n",
    "\\end{bmatrix}\n",
    "$$\n",
    "\n",
    "$$\n",
    "P_2 = \\begin{bmatrix}\n",
    "0.6 & 0.4 & 0.0\\\\\n",
    "0.3 & 0.7 & 0.0\\\\\n",
    "0.0 & 0.0 & 1.0\n",
    "\\end{bmatrix}\n",
    "$$\n",
    "\n",
    "#### Day2\n",
    "\n",
    "sunny --> sunny\n",
    "\n",
    "$$\n",
    "P(X_2=1|z_2)=\\eta P_2(Z_2=2|X_2=1) \\times P_1(X_2=1)\n",
    "\\\\\n",
    "= \\eta 0.4 \\times 0.8 = 0.32\\eta\n",
    "$$\n",
    "\n",
    "sunny --> cloudy\n",
    "\n",
    "$$\n",
    "P(X_2=2|z_2)=\\eta P_2(Z_2=2|X_2=2) \\times P_1(X_2=2)\n",
    "\\\\\n",
    "= \\eta 0.7 \\times 0.2 = 0.14\\eta\n",
    "$$\n",
    "\n",
    "sunny --> rainy\n",
    "\n",
    "$$\n",
    "P(X_2=3|z_2)=\\eta P_2(Z_2=2|X_2=3) \\times P_1(X_2=3)\n",
    "\\\\\n",
    "= \\eta 0.0 \\times 0.0 = 0\n",
    "$$\n",
    "\n",
    "where $\\eta$:\n",
    "\n",
    "$$\n",
    "\\eta = \\frac{1}{0.32 + 0.14 + 0} \\approx 2.174\n",
    "$$\n",
    "\n",
    "$P(X_2=1|z_2) = 0.32\\eta \\approx 0.70$ <br>\n",
    "$P(X_2=2|z_2) = 0.14\\eta \\approx 0.30$ <br>\n",
    "$P(X_2=3|z_2) = 0.0$\n",
    "\n",
    "#### Day3\n",
    "\n",
    "$$P(X_3=i|z_{2:3})=\\eta P_2(Z_3=2|X_3=i) \\times \\sum^3_{j=1}{P_1(X_3=i|X_2=j)} \\times P(X_2=j|z_{2:3})$$\n",
    "\n",
    "$$\n",
    "P(X_3=1|z_{2:3}) = \\eta 0.4 \\times (0.8 \\times 0.7 + 0.4 \\times 0.3 + 0.2 \\times 0.0) = 0.272\\eta\n",
    "\\\\\n",
    "P(X_3=2|z_{2:3}) = \\eta 0.7 \\times (0.2 \\times 0.7 + 0.4 \\times 0.3 + 0.6 \\times 0.0) = 0.182\\eta\n",
    "\\\\\n",
    "P(X_3=3|z_{2:3}) = \\eta 0.0 \\times (0.0 \\times 0.7 + 0.2 \\times 0.3 + 0.2 \\times 0.0) = 0.0\n",
    "$$\n",
    "\n",
    "where $\\eta$:\n",
    "\n",
    "$$\n",
    "\\eta = \\frac{1}{0.272 + 0.182 + 0} \\approx 2,203\n",
    "$$\n",
    "\n",
    "$P(X_3=1|z_{2:3}) = 0.272\\eta \\approx 0.599$ <br>\n",
    "$P(X_3=2|z_{2:3}) = 0.182\\eta \\approx 0.282$ <br>\n",
    "$P(X_3=3|z_{2:3}) = 0.0$\n",
    "\n",
    "#### Day4\n",
    "\n",
    "$$P(X_4=i|z_{2:4})=\\eta P_2(Z_4=3|X_4=i) \\times \\sum^3_{j=1}{P_1(X_4=i|X_3=j)} \\times P(X_3=j|z_{2:4})$$\n",
    "\n",
    "$$\n",
    "P(X_4=1|z_{2:4}) = \\eta 0.0 \\times \\dots = 0.0\n",
    "\\\\\n",
    "P(X_4=2|z_{2:4}) = \\eta 0.0 \\times \\dots = 0.0\n",
    "\\\\\n",
    "P(X_4=3|z_{2:4}) = \\eta 1.0 \\times (0.0 \\times 0.599 + 0.2 \\times 0.282 + 0.2 \\times 0.0) = 0.0564\\eta\n",
    "$$\n",
    "\n",
    "where $\\eta$:\n",
    "\n",
    "$$\n",
    "\\eta = \\frac{1}{0.0564}\n",
    "$$\n",
    "\n",
    "$P(X_4=3|z_{2:4}) = 1$\n",
    "\n",
    "#### Day 5\n",
    "\n",
    "$$\n",
    "P(X_5=i|z_{2:5})=\\eta P_2(Z_5=2|X_5=i) \\times \\sum^3_{j=1}{P_1(X_5=i|X_4=j)} \\times P(X_4=j|z_{2:4})\n",
    "$$\n",
    "\n",
    "$$\n",
    "P(X_5=1|z_{2:5})=\\eta 0.6 \\times (0.8 \\times 0 + 0.4 \\times 0 + 0.2 \\times 1.0) = 0.12\\eta\n",
    "\\\\\n",
    "P(X_5=2|z_{2:5})=\\eta 0.3 \\times (0.2 \\times 0 + 0.4 \\times 0 + 0.6 \\times 1.0) = 0.18\\eta\n",
    "\\\\\n",
    "P(X_5=3|z_{2:5})=\\eta 0.0 \\times \\dots = 0.0\n",
    "$$\n",
    "\n",
    "where $\\eta$:\n",
    "\n",
    "$$\n",
    "\\eta = \\frac{1}{0.12 + 0.18}\n",
    "$$\n",
    "\n",
    "$P(X_5=1|z_{2:5})=0.4$ <br>\n",
    "$P(X_5=2|z_{2:5})=0.6$ <br>\n",
    "$P(X_5=3|z_{2:5})=0.0$\n",
    "\n",
    "**Hence:**\n",
    "\n",
    "The probability for Day 5 to be indeed $sunny$ is $0.4$, although the probability for being $cloudy$ is actually higher with $0.6$."
   ]
  },
  {
   "cell_type": "markdown",
   "metadata": {},
   "source": [
    "**Matrix recursive form:**\n",
    "\n",
    "$sunny = [1,0,0]$ <br>\n",
    "$cloudy = [0,1,0]$ <br>\n",
    "$rainy = [0,0,1]$ <br>\n",
    "$p_t = sunny$ <br>\n",
    "$z = [sunny, cloudy, cloudy, rainy, sunny]$\n",
    "\n",
    "$$\n",
    "p_{t+1} = \n",
    "\\frac{(z_t \\cdot P_2) (p_t \\cdot P_1)}\n",
    "{|(z_t \\cdot P_2) (p_t \\cdot P_1)|}\n",
    "$$\n",
    "\n",
    "#### Now with Numpy:"
   ]
  },
  {
   "cell_type": "code",
   "execution_count": 7,
   "metadata": {},
   "outputs": [
    {
     "name": "stdout",
     "output_type": "stream",
     "text": [
      "|             | Day1   | Day2   | Day3   | Day4   | Day5   |\n",
      "|-------------+--------+--------+--------+--------+--------|\n",
      "| sunny       | 1.0000 | 0.6957 | 0.5977 | 0.0000 | 0.4000 |\n",
      "| cloudy      | 0.0000 | 0.3043 | 0.4023 | 0.0000 | 0.6000 |\n",
      "| rainy       | 0.0000 | 0.0000 | 0.0000 | 1.0000 | 0.0000 |\n",
      "| most-likely | sunny  | sunny  | sunny  | rainy  | cloudy |\n",
      "| measured    | sunny  | cloudy | cloudy | rainy  | sunny  |\n"
     ]
    }
   ],
   "source": [
    "P1 = transition.copy()\n",
    "P2 = np.array((.6, .4, 0, .3, .7, 0, 0, 0, 1)).reshape(3,3)\n",
    "z = ('sunny', 'cloudy', 'cloudy', 'rainy', 'sunny')\n",
    "z = [lookup[k] for k in z]\n",
    "pt = [1,0,0]\n",
    "\n",
    "def sens_weather(pt, P1, P2, z):\n",
    "    yield np.array(pt)\n",
    "    for tday in z[1:]:\n",
    "        pt = P2[:,tday] * np.dot(pt, P1)\n",
    "        pt = pt / pt.sum()\n",
    "        yield pt\n",
    "\n",
    "data = {'':('sunny', 'cloudy', 'rainy', 'most-likely', 'measured')}\n",
    "for i, pt in enumerate(sens_weather(pt, P1, P2, z)):\n",
    "    key = \"Day{}\".format(i+1)\n",
    "    data[key] = [\"{:01.4f}\".format(f) for f in pt]\n",
    "    data[key].append(weather[np.argmax(pt)])\n",
    "    data[key].append(weather[z[i]])\n",
    "    \n",
    "print(tabulate(data, headers='keys', tablefmt='orgtbl'))"
   ]
  },
  {
   "cell_type": "markdown",
   "metadata": {},
   "source": [
    "### Exercise 3.b)\n",
    "\n",
    "- Once again, suppose Day 1 is known to be $sunny$. At Days 2 through 4, the sensor measures $sunny, sunny, rainy$. For each of the Days 2 through 4, what is the most likely weather on that day? Answer the question in two ways: one in which only the data available to the day in question is used, and one in hindsight, where data from future days is also available.\n",
    "\n",
    "#### First: Without future knowledge"
   ]
  },
  {
   "cell_type": "code",
   "execution_count": 8,
   "metadata": {},
   "outputs": [
    {
     "name": "stdout",
     "output_type": "stream",
     "text": [
      "|             | Day1   | Day2   | Day3   | Day4   |     Prob |\n",
      "|-------------+--------+--------+--------+--------+----------|\n",
      "| sunny       | 1.0000 | 0.8889 | 0.8718 | 0.0000 | 0        |\n",
      "| cloudy      | 0.0000 | 0.1111 | 0.1282 | 0.0000 | 0        |\n",
      "| rainy       | 0.0000 | 0.0000 | 0.0000 | 1.0000 | 0        |\n",
      "| most-likely | sunny  | sunny  | sunny  | rainy  | 0.774929 |\n",
      "| measured    | sunny  | sunny  | sunny  | rainy  | 0.774929 |\n"
     ]
    }
   ],
   "source": [
    "P1 = transition.copy()\n",
    "P2 = np.array((.6, .4, 0, .3, .7, 0, 0, 0, 1)).reshape(3,3)\n",
    "z = ('sunny', 'sunny', 'sunny', 'rainy')\n",
    "z = [lookup[k] for k in z]\n",
    "pt = [1,0,0]\n",
    "\n",
    "data = {'':('sunny', 'cloudy', 'rainy', 'most-likely', 'measured')}\n",
    "probs = np.zeros((len(z),3))\n",
    "for i, pt in enumerate(sens_weather(pt, P1, P2, z)):\n",
    "    key = \"Day{}\".format(i+1)\n",
    "    data[key] = [\"{:01.4f}\".format(f) for f in pt]\n",
    "    data[key].append(weather[np.argmax(pt)])\n",
    "    data[key].append(weather[z[i]])\n",
    "    probs[i] = pt\n",
    "\n",
    "data['Prob'] = (\n",
    "    *probs.prod(axis=0), \n",
    "    probs.max(axis=1).prod(), \n",
    "    probs[range(len(z)),z].prod()\n",
    ")\n",
    "print(tabulate(data, headers='keys', tablefmt='orgtbl'))"
   ]
  },
  {
   "cell_type": "markdown",
   "metadata": {},
   "source": [
    "Without future knowledge the measured sequence is indeed most-likely.\n",
    "\n",
    "#### Second: With future knowledge\n",
    "\n",
    "In this case we require the transposed transition-matrix to determine the probabilities from tommorow to today.\n",
    "\n",
    "$$\n",
    "P_1^T = \\begin{bmatrix}\n",
    "0.8 & 0.4 & 0.2\\\\\n",
    "0.2 & 0.4 & 0.6\\\\\n",
    "0.0 & 0.2 & 0.2\n",
    "\\end{bmatrix}\n",
    "$$\n",
    "\n",
    "$$\n",
    "P_2^T = \\begin{bmatrix}\n",
    "0.6 & 0.3 & 0.0\\\\\n",
    "0.4 & 0.7 & 0.0\\\\\n",
    "0.0 & 0.0 & 1.0\n",
    "\\end{bmatrix}\n",
    "$$"
   ]
  },
  {
   "cell_type": "code",
   "execution_count": 9,
   "metadata": {},
   "outputs": [
    {
     "name": "stdout",
     "output_type": "stream",
     "text": [
      "|             | Day1   | Day2   | Day3   | Day4   |   Prob |\n",
      "|-------------+--------+--------+--------+--------+--------|\n",
      "| sunny       | 1.0000 | 0.8000 | 0.0000 | 0.0000 |    0   |\n",
      "| cloudy      | 0.0000 | 0.2000 | 1.0000 | 0.0000 |    0   |\n",
      "| rainy       | 0.0000 | 0.0000 | 0.0000 | 1.0000 |    0   |\n",
      "| most-likely | sunny  | sunny  | cloudy | rainy  |    0.8 |\n",
      "| measured    | sunny  | sunny  | sunny  | rainy  |    0   |\n"
     ]
    }
   ],
   "source": [
    "pt = [1,0,0]\n",
    "\n",
    "#Re-define sens_weather with future support\n",
    "def sens_weather(pt, P1, P2, z, wfuture=False):\n",
    "    yield np.array(pt)\n",
    "    for i, tday in enumerate(z[1:]):\n",
    "        #simulate the prop from future to current day\n",
    "        if wfuture and len(z) > i+2:\n",
    "            pf = np.ones(3)\n",
    "            C = P2.T\n",
    "            A = P1.T\n",
    "            for future in z[i+2:]:\n",
    "                C = np.dot(C, A)\n",
    "                pf *= C[future]\n",
    "        else:\n",
    "            pf = 1\n",
    "        #from past to current day\n",
    "        pt = P2[:,tday] * np.dot(pt, P1) * pf\n",
    "        pt = pt / pt.sum()\n",
    "        yield pt\n",
    "\n",
    "probs = np.zeros((len(z),3))\n",
    "for i, pt in enumerate(sens_weather(pt, P1, P2, z, wfuture=True)):\n",
    "    key = \"Day{}\".format(i+1)\n",
    "    data[key] = [\"{:01.4f}\".format(f) for f in pt]\n",
    "    data[key].append(weather[np.argmax(pt)])\n",
    "    data[key].append(weather[z[i]])\n",
    "    probs[i] = pt\n",
    "\n",
    "data['Prob'] = (\n",
    "    *probs.prod(axis=0), \n",
    "    probs.max(axis=1).prod(), \n",
    "    probs[range(len(z)),z].prod()\n",
    ")   \n",
    "print(tabulate(data, headers='keys', tablefmt='orgtbl'))"
   ]
  },
  {
   "cell_type": "markdown",
   "metadata": {},
   "source": [
    "W.r.t the future the measured sequence is no-more the most-likely one.\n",
    "In the presented table we can easily read the probabilities of each day."
   ]
  },
  {
   "cell_type": "markdown",
   "metadata": {},
   "source": [
    "### Exercise 3.c)\n",
    "\n",
    "- Consider the same situation (Day 1 is $sunny$, the measurements for Days 2, 3, and 4 are $sunny, sunny, rainy$). What is the most likely sequence of weather for Days 2 through 4? What is the probability of this most likely sequence?\n",
    "\n",
    "Please see the tables of *Exercise 3.b)*.\n",
    "All answers are included in those.\n",
    "\n",
    "**Without future**\n",
    "\n",
    "|             | Day1   | Day2   | Day3   | Day4   | Prob of seq |\n",
    "|-------------|--------|--------|--------|--------|-------------|\n",
    "| sunny       | 1.0000 | 0.8889 | 0.8718 | 0.0000 | 0           |\n",
    "| cloudy      | 0.0000 | 0.1111 | 0.1282 | 0.0000 | 0           |\n",
    "| rainy       | 0.0000 | 0.0000 | 0.0000 | 1.0000 | 0           |\n",
    "| most-likely | sunny  | sunny  | sunny  | rainy  | 0.774929    |\n",
    "| measured    | sunny  | sunny  | sunny  | rainy  | 0.774929    |\n",
    "\n",
    "**W.r.t future**\n",
    "\n",
    "|             | Day1   | Day2   | Day3   | Day4   | Prob of seq |\n",
    "|-------------|--------|--------|--------|--------|-------------|\n",
    "| sunny       | 1.0000 | 0.8000 | 0.0000 | 0.0000 |    0        |\n",
    "| cloudy      | 0.0000 | 0.2000 | 1.0000 | 0.0000 |    0        |\n",
    "| rainy       | 0.0000 | 0.0000 | 0.0000 | 1.0000 |    0        |\n",
    "| most-likely | sunny  | sunny  | cloudy | rainy  |    0.8      |\n",
    "| measured    | sunny  | sunny  | sunny  | rainy  |    0        |"
   ]
  }
 ],
 "metadata": {
  "kernelspec": {
   "display_name": "Python 3",
   "language": "python",
   "name": "python3"
  },
  "language_info": {
   "codemirror_mode": {
    "name": "ipython",
    "version": 3
   },
   "file_extension": ".py",
   "mimetype": "text/x-python",
   "name": "python",
   "nbconvert_exporter": "python",
   "pygments_lexer": "ipython3",
   "version": "3.7.3"
  }
 },
 "nbformat": 4,
 "nbformat_minor": 2
}
